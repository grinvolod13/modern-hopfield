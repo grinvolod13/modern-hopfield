{
 "cells": [
  {
   "cell_type": "code",
   "execution_count": 2,
   "metadata": {},
   "outputs": [],
   "source": [
    "import tensorflow as tf\n",
    "import tensorflow_datasets as tfds\n",
    "import pandas as pd\n",
    "import matplotlib.pyplot as plt\n",
    "import numpy as np\n",
    "import random\n",
    "import sys\n",
    "from tqdm import tqdm"
   ]
  },
  {
   "cell_type": "code",
   "execution_count": 3,
   "metadata": {},
   "outputs": [],
   "source": [
    "from hopfield_modern.hopfield_modern import Hopfield"
   ]
  },
  {
   "cell_type": "code",
   "execution_count": 37,
   "metadata": {},
   "outputs": [],
   "source": [
    "def dice_score(prediction, data) -> float:\n",
    "    tp, tn, fp, fn = 0, 0, 0, 0\n",
    "    for p, d in zip(prediction.flat, data.flat):\n",
    "        if d>0 and p>0:\n",
    "            tp += 1\n",
    "        # if d<0 and p<0:\n",
    "        #     tn += 1\n",
    "        if d>0 and p<0:\n",
    "            fn += 1\n",
    "        if d<0 and p>0:\n",
    "            fp += 1\n",
    "  \n",
    "    return 2*tp/(2*tp + fp + fn)"
   ]
  },
  {
   "cell_type": "code",
   "execution_count": 38,
   "metadata": {},
   "outputs": [],
   "source": [
    "def iou_score(prediction, data) -> float:\n",
    "    tp, tn, fp, fn = 0, 0, 0, 0\n",
    "    for p, d in zip(prediction.flat, data.flat):\n",
    "        if d>0 and p>0:\n",
    "            tp += 1\n",
    "        # if d<0 and p<0:\n",
    "        #     tn += 1\n",
    "        if d>0 and p<0:\n",
    "            fn += 1\n",
    "        if d<0 and p>0:\n",
    "            fp += 1\n",
    "  \n",
    "    return tp/(tp + fp + fn)"
   ]
  },
  {
   "cell_type": "code",
   "execution_count": 39,
   "metadata": {},
   "outputs": [],
   "source": [
    "def classify(image, dataset, score)-> int:\n",
    "    max_i = 0\n",
    "    for i in range(len(dataset)):\n",
    "        sample = dataset[i]\n",
    "        if score(image, sample) > score(image, dataset[max_i]):\n",
    "            max_i = i\n",
    "    return max_i    "
   ]
  },
  {
   "cell_type": "code",
   "execution_count": 49,
   "metadata": {},
   "outputs": [],
   "source": [
    "def prepare_image_label(dataset: np.ndarray, index: np.uint, threshold=100, scale=0.6):\n",
    "    image, label = dataset[index]\n",
    "    image = tf.image.central_crop(image, scale)\n",
    "    # image = tf.where(image>threshold, 1, 0)\n",
    "    image/=255\n",
    "    image = image.numpy().flatten()\n",
    "    image = np.array(image, np.float32)*2-1\n",
    "    \n",
    "    return image, label"
   ]
  },
  {
   "cell_type": "code",
   "execution_count": 19,
   "metadata": {},
   "outputs": [
    {
     "ename": "KeyboardInterrupt",
     "evalue": "",
     "output_type": "error",
     "traceback": [
      "\u001b[1;31m---------------------------------------------------------------------------\u001b[0m",
      "\u001b[1;31mKeyboardInterrupt\u001b[0m                         Traceback (most recent call last)",
      "Cell \u001b[1;32mIn[19], line 2\u001b[0m\n\u001b[0;32m      1\u001b[0m train_iter \u001b[39m=\u001b[39m tfds\u001b[39m.\u001b[39mas_numpy(tfds\u001b[39m.\u001b[39mload(\u001b[39m'\u001b[39m\u001b[39mmnist\u001b[39m\u001b[39m'\u001b[39m, split\u001b[39m=\u001b[39m\u001b[39m'\u001b[39m\u001b[39mtrain\u001b[39m\u001b[39m'\u001b[39m, shuffle_files\u001b[39m=\u001b[39m\u001b[39mTrue\u001b[39;00m, as_supervised\u001b[39m=\u001b[39m\u001b[39mTrue\u001b[39;00m))\n\u001b[1;32m----> 2\u001b[0m dataset_train \u001b[39m=\u001b[39m np\u001b[39m.\u001b[39;49mfromiter(train_iter, dtype\u001b[39m=\u001b[39;49m\u001b[39mtuple\u001b[39;49m)\n",
      "File \u001b[1;32mc:\\Users\\User\\AppData\\Local\\Programs\\Python\\Python310\\lib\\site-packages\\tensorflow_datasets\\core\\dataset_utils.py:76\u001b[0m, in \u001b[0;36m_eager_dataset_iterator\u001b[1;34m(ds)\u001b[0m\n\u001b[0;32m     75\u001b[0m \u001b[39mdef\u001b[39;00m \u001b[39m_eager_dataset_iterator\u001b[39m(ds: tf\u001b[39m.\u001b[39mdata\u001b[39m.\u001b[39mDataset) \u001b[39m-\u001b[39m\u001b[39m>\u001b[39m Iterator[NumpyElem]:\n\u001b[1;32m---> 76\u001b[0m   \u001b[39mfor\u001b[39;00m elem \u001b[39min\u001b[39;00m ds:\n\u001b[0;32m     77\u001b[0m     \u001b[39myield\u001b[39;00m tree_utils\u001b[39m.\u001b[39mmap_structure(_elem_to_numpy_eager, elem)\n",
      "File \u001b[1;32mc:\\Users\\User\\AppData\\Local\\Programs\\Python\\Python310\\lib\\site-packages\\tensorflow\\python\\data\\ops\\iterator_ops.py:787\u001b[0m, in \u001b[0;36mOwnedIterator.__next__\u001b[1;34m(self)\u001b[0m\n\u001b[0;32m    785\u001b[0m \u001b[39mdef\u001b[39;00m \u001b[39m__next__\u001b[39m(\u001b[39mself\u001b[39m):\n\u001b[0;32m    786\u001b[0m   \u001b[39mtry\u001b[39;00m:\n\u001b[1;32m--> 787\u001b[0m     \u001b[39mreturn\u001b[39;00m \u001b[39mself\u001b[39;49m\u001b[39m.\u001b[39;49m_next_internal()\n\u001b[0;32m    788\u001b[0m   \u001b[39mexcept\u001b[39;00m errors\u001b[39m.\u001b[39mOutOfRangeError:\n\u001b[0;32m    789\u001b[0m     \u001b[39mraise\u001b[39;00m \u001b[39mStopIteration\u001b[39;00m\n",
      "File \u001b[1;32mc:\\Users\\User\\AppData\\Local\\Programs\\Python\\Python310\\lib\\site-packages\\tensorflow\\python\\data\\ops\\iterator_ops.py:770\u001b[0m, in \u001b[0;36mOwnedIterator._next_internal\u001b[1;34m(self)\u001b[0m\n\u001b[0;32m    767\u001b[0m \u001b[39m# TODO(b/77291417): This runs in sync mode as iterators use an error status\u001b[39;00m\n\u001b[0;32m    768\u001b[0m \u001b[39m# to communicate that there is no more data to iterate over.\u001b[39;00m\n\u001b[0;32m    769\u001b[0m \u001b[39mwith\u001b[39;00m context\u001b[39m.\u001b[39mexecution_mode(context\u001b[39m.\u001b[39mSYNC):\n\u001b[1;32m--> 770\u001b[0m   ret \u001b[39m=\u001b[39m gen_dataset_ops\u001b[39m.\u001b[39;49miterator_get_next(\n\u001b[0;32m    771\u001b[0m       \u001b[39mself\u001b[39;49m\u001b[39m.\u001b[39;49m_iterator_resource,\n\u001b[0;32m    772\u001b[0m       output_types\u001b[39m=\u001b[39;49m\u001b[39mself\u001b[39;49m\u001b[39m.\u001b[39;49m_flat_output_types,\n\u001b[0;32m    773\u001b[0m       output_shapes\u001b[39m=\u001b[39;49m\u001b[39mself\u001b[39;49m\u001b[39m.\u001b[39;49m_flat_output_shapes)\n\u001b[0;32m    775\u001b[0m   \u001b[39mtry\u001b[39;00m:\n\u001b[0;32m    776\u001b[0m     \u001b[39m# Fast path for the case `self._structure` is not a nested structure.\u001b[39;00m\n\u001b[0;32m    777\u001b[0m     \u001b[39mreturn\u001b[39;00m \u001b[39mself\u001b[39m\u001b[39m.\u001b[39m_element_spec\u001b[39m.\u001b[39m_from_compatible_tensor_list(ret)  \u001b[39m# pylint: disable=protected-access\u001b[39;00m\n",
      "File \u001b[1;32mc:\\Users\\User\\AppData\\Local\\Programs\\Python\\Python310\\lib\\site-packages\\tensorflow\\python\\ops\\gen_dataset_ops.py:3038\u001b[0m, in \u001b[0;36miterator_get_next\u001b[1;34m(iterator, output_types, output_shapes, name)\u001b[0m\n\u001b[0;32m   3036\u001b[0m \u001b[39mif\u001b[39;00m tld\u001b[39m.\u001b[39mis_eager:\n\u001b[0;32m   3037\u001b[0m   \u001b[39mtry\u001b[39;00m:\n\u001b[1;32m-> 3038\u001b[0m     _result \u001b[39m=\u001b[39m pywrap_tfe\u001b[39m.\u001b[39;49mTFE_Py_FastPathExecute(\n\u001b[0;32m   3039\u001b[0m       _ctx, \u001b[39m\"\u001b[39;49m\u001b[39mIteratorGetNext\u001b[39;49m\u001b[39m\"\u001b[39;49m, name, iterator, \u001b[39m\"\u001b[39;49m\u001b[39moutput_types\u001b[39;49m\u001b[39m\"\u001b[39;49m, output_types,\n\u001b[0;32m   3040\u001b[0m       \u001b[39m\"\u001b[39;49m\u001b[39moutput_shapes\u001b[39;49m\u001b[39m\"\u001b[39;49m, output_shapes)\n\u001b[0;32m   3041\u001b[0m     \u001b[39mreturn\u001b[39;00m _result\n\u001b[0;32m   3042\u001b[0m   \u001b[39mexcept\u001b[39;00m _core\u001b[39m.\u001b[39m_NotOkStatusException \u001b[39mas\u001b[39;00m e:\n",
      "\u001b[1;31mKeyboardInterrupt\u001b[0m: "
     ]
    }
   ],
   "source": [
    "train_iter = tfds.as_numpy(tfds.load('mnist', split='train', shuffle_files=True, as_supervised=True))\n",
    "dataset_train = np.fromiter(train_iter, dtype=tuple)"
   ]
  },
  {
   "cell_type": "code",
   "execution_count": 8,
   "metadata": {},
   "outputs": [],
   "source": [
    "iter_test = tfds.as_numpy(tfds.load('mnist', split='train', shuffle_files=True, as_supervised=True))\n",
    "dataset_test = np.fromiter(iter_test, dtype=tuple)"
   ]
  },
  {
   "cell_type": "code",
   "execution_count": 9,
   "metadata": {},
   "outputs": [
    {
     "name": "stdout",
     "output_type": "stream",
     "text": [
      "Stored 'dataset_train' (ndarray)\n",
      "Stored 'dataset_test' (ndarray)\n"
     ]
    }
   ],
   "source": [
    "%store dataset_train\n",
    "%store dataset_test"
   ]
  },
  {
   "cell_type": "code",
   "execution_count": 7,
   "metadata": {},
   "outputs": [],
   "source": [
    "%store -r"
   ]
  },
  {
   "cell_type": "code",
   "execution_count": 8,
   "metadata": {},
   "outputs": [],
   "source": [
    "digits = [[] for i in range(10)]\n",
    "index = 0\n",
    "for d in dataset_train:\n",
    "    digits[d[1]].append(index)\n",
    "    index += 1"
   ]
  },
  {
   "cell_type": "code",
   "execution_count": 50,
   "metadata": {},
   "outputs": [],
   "source": [
    "memory_images = []\n",
    "scale = 0.6\n",
    "threshold = 100\n",
    "shape = ()\n",
    "for digit in range(10):\n",
    "    index = random.choice(digits[ digit ])\n",
    "    image = tf.image.central_crop(dataset_train[index][0], scale)\n",
    "    # image = tf.where(image>threshold, 1, 0)\n",
    "    image/=255\n",
    "    memory_images.append(image.numpy().flatten())\n",
    "\n",
    "    \n",
    "shape = tuple(image.shape)[:2]\n",
    "memory_images = np.array(memory_images, dtype=np.float32)*2-1\n"
   ]
  },
  {
   "cell_type": "code",
   "execution_count": 51,
   "metadata": {},
   "outputs": [
    {
     "name": "stdout",
     "output_type": "stream",
     "text": [
      "1\n"
     ]
    },
    {
     "data": {
      "text/plain": [
       "<matplotlib.image.AxesImage at 0x1f9dff97bb0>"
      ]
     },
     "execution_count": 51,
     "metadata": {},
     "output_type": "execute_result"
    },
    {
     "data": {
      "image/png": "[encoded data removed]",
      "text/plain": [
       "<Figure size 480x480 with 1 Axes>"
      ]
     },
     "metadata": {},
     "output_type": "display_data"
    }
   ],
   "source": [
    "model = Hopfield(memory_images.T.copy())\n",
    "\n",
    "image, label = prepare_image_label(dataset_test, 1111, threshold, scale)\n",
    "\n",
    "output = model.run(image, 0.5)\n",
    "print(label)\n",
    "plt.matshow(np.resize(output, new_shape=shape))"
   ]
  },
  {
   "cell_type": "code",
   "execution_count": 52,
   "metadata": {},
   "outputs": [
    {
     "name": "stderr",
     "output_type": "stream",
     "text": [
      "100%|██████████| 1000/1000 [03:33<00:00,  4.68it/s]\n"
     ]
    }
   ],
   "source": [
    "test_count = 1000\n",
    "\n",
    "result_dice = [[] for i in range(10)]\n",
    "result_iou = [[] for i in range(10)]\n",
    "\n",
    "model = Hopfield(memory_images.T.copy())\n",
    "# model.train()\n",
    "\n",
    "for index in tqdm(range(test_count)):\n",
    "    image, label = dataset_test[index]\n",
    "    image = tf.image.central_crop(image, scale)\n",
    "    # image = tf.where(image>threshold, 1, 0)\n",
    "    image /= 255\n",
    "    image = image.numpy().flatten()\n",
    "    image = np.array(image, np.float32)*2-1\n",
    "    \n",
    "    output = model.run(image, b=16.0)\n",
    "    \n",
    "    predicted_label_dice = classify(output, memory_images, dice_score)\n",
    "    predicted_label_iou = classify(output, memory_images, iou_score)\n",
    "    \n",
    "    result_dice[label].append( predicted_label_dice == label )\n",
    "    result_iou[label].append( predicted_label_iou == label )\n",
    "    \n",
    "    "
   ]
  },
  {
   "cell_type": "code",
   "execution_count": 53,
   "metadata": {},
   "outputs": [
    {
     "name": "stdout",
     "output_type": "stream",
     "text": [
      "Result with Dice(F1) score classifier\n",
      "0: 55%, 84 tests\n",
      "1: 85%, 109 tests\n",
      "2: 26%, 100 tests\n",
      "3: 26%, 96 tests\n",
      "4: 13%, 113 tests\n",
      "5: 34%, 85 tests\n",
      "6: 46%, 92 tests\n",
      "7: 51%, 94 tests\n",
      "8: 8%, 112 tests\n",
      "9: 13%, 115 tests\n",
      " total: 35.0%\n",
      "Result with Dice(F1) score classifier\n",
      "0: 55%, 84 tests\n",
      "1: 85%, 109 tests\n",
      "2: 26%, 100 tests\n",
      "3: 26%, 96 tests\n",
      "4: 13%, 113 tests\n",
      "5: 34%, 85 tests\n",
      "6: 46%, 92 tests\n",
      "7: 51%, 94 tests\n",
      "8: 8%, 112 tests\n",
      "9: 13%, 115 tests\n",
      " total: 35.0%\n"
     ]
    }
   ],
   "source": [
    "i = 0\n",
    "print(\"Result with Dice(F1) score classifier\")\n",
    "result_dice = np.array(result_dice, dtype=object)\n",
    "for stat in result_dice:\n",
    "    print(f\"{i}: {int(sum(stat)/len(stat)*100)}%, {len(stat)} tests\")\n",
    "    i+=1\n",
    "print(f\" total: {sum([sum(i) for i in result_dice])/test_count*100}%\")\n",
    "\n",
    "i = 0\n",
    "print(\"Result with Dice(F1) score classifier\")\n",
    "result_iou = np.array(result_iou, dtype=object)\n",
    "for stat in result_iou:\n",
    "    print(f\"{i}: {int(sum(stat)/len(stat)*100)}%, {len(stat)} tests\")\n",
    "    i+=1\n",
    "print(f\" total: {sum([sum(i) for i in result_iou])/test_count*100}%\")"
   ]
  },
  {
   "cell_type": "code",
   "execution_count": null,
   "metadata": {},
   "outputs": [],
   "source": []
  }
 ],
 "metadata": {
  "kernelspec": {
   "display_name": "Python 3",
   "language": "python",
   "name": "python3"
  },
  "language_info": {
   "codemirror_mode": {
    "name": "ipython",
    "version": 3
   },
   "file_extension": ".py",
   "mimetype": "text/x-python",
   "name": "python",
   "nbconvert_exporter": "python",
   "pygments_lexer": "ipython3",
   "version": "3.10.9"
  },
  "orig_nbformat": 4,
  "vscode": {
   "interpreter": {
    "hash": "afb734500600fd355917ca529030176ea0ca205570884b88f2f6f7d791fd3fbe"
   }
  }
 },
 "nbformat": 4,
 "nbformat_minor": 2
}
